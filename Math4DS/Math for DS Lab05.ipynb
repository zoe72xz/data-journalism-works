{
  "cells": [
    {
      "cell_type": "markdown",
      "metadata": {
        "id": "view-in-github",
        "colab_type": "text"
      },
      "source": [
        "<a href=\"https://colab.research.google.com/github/zoe72xz/data-journalism-works/blob/main/Math4DS/Math%20for%20DS%20Lab05.ipynb\" target=\"_parent\"><img src=\"https://colab.research.google.com/assets/colab-badge.svg\" alt=\"Open In Colab\"/></a>"
      ]
    },
    {
      "cell_type": "markdown",
      "metadata": {
        "id": "b0qFLP1eVWuy"
      },
      "source": [
        "# **Lab 5: Symbolic Computations for Algebraic Calculations**\n",
        "\n"
      ]
    },
    {
      "cell_type": "markdown",
      "metadata": {
        "id": "mBrkB6EcYdLr"
      },
      "source": [
        "## **Introduction**\n",
        "\n",
        "In this Lab session, we will learn how to use symbolic computations for detailed algebraic calculations.\n",
        "\n",
        "Note that for real research problems, you may need to handle the integral/derivative of very complicated functions, factor a polynomial, simplify a very complicated formula, or solve an algebraic or differential equation. Researchers have developed powerful **computer algebra systems** (CAS) and symbolic computation softwares so one can solve complicated problems efficiently.\n",
        "\n",
        "We will study Python Symbolic Toolbox and Mathematica in this Lab.\n",
        "\n",
        "For Python, we can use examples from the following two sites.\n",
        "\n",
        "https://scipy-lectures.org/packages/sympy.html\n",
        "\n",
        "https://www.southampton.ac.uk/~fangohr/teaching/python/book/html/12-symbolic-computation.html\n",
        "\n",
        "For Mathematica, use Mathematica help menu.\n",
        "\n",
        "**IMPORTANT: ** To better learn the big pictures and techniques for scientific research, it is important that you know the pencil-paper way to correctly perform many of the basic operations, e.g., expand (a+b)^2, derivatives and integrals of basic functions, how to solve simple algebraic and differential equations, etc.. For homework and worksheet problems, we therefore highly recommend that you first try the pencil-paper way. You are encouraged to validate your answers using technology.\n"
      ]
    },
    {
      "cell_type": "markdown",
      "metadata": {
        "id": "2R3_pkfGeY_w"
      },
      "source": [
        "## **Section 1: SymPy Variable Types**\n",
        "\n",
        "SymPy, a symbolic mathematics library in Python, defines three primary numerical types that allow for various mathematical operations and representations.\n",
        "\n",
        "*   **Real** type represents real numbers, encompassing both rational and irrational numbers, with arbitrary precision. This ensures accurate results in calculations, especially when dealing with irrational numbers like the square root of 2.  \n",
        "*   **Rational** type represents a ratio of two integers. This type is particularly useful when exact fractional values are desired, as it prevents the loss of precision that can occur with floating-point representations. For example, a Rational type would represent 1/3 exactly, unlike some floating-point representations that would round it.\n",
        "*  **Integer** type represents whole numbers, both positive and negative, as well as zero. This type provides exact arithmetic for integer operations. In addition to these numerical types, SymPy conveniently stores commonly used constants, such as *π* and *e*, as symbols. This ensures that mathematical expressions retain their symbolic form unless explicitly evaluated. The library also encompasses the concept of \"infinity\", allowing for mathematical operations and expressions that involve the notion of boundless values.\n",
        "\n",
        "Run the given examples below and complete the corresponding exercise."
      ]
    },
    {
      "cell_type": "code",
      "execution_count": null,
      "metadata": {
        "id": "wkzEunyqfAy9",
        "outputId": "75af4abb-fbd2-4ca7-c95b-f1871082bcbb"
      },
      "outputs": [
        {
          "name": "stdout",
          "output_type": "stream",
          "text": [
            "1/2\n",
            "1\n",
            "1/5\n",
            "7/10\n"
          ]
        }
      ],
      "source": [
        "#Example 1.1\n",
        "import sympy as sym\n",
        "\n",
        "#Create the fraction 1/2\n",
        "a = sym.Rational(1, 2)\n",
        "print(a)\n",
        "\n",
        "#Multiply fraction by 2\n",
        "a2 = a*2\n",
        "print(a2)\n",
        "\n",
        "#Create another fraction\n",
        "b=sym.Rational(1,5)\n",
        "print(b)\n",
        "\n",
        "#Add two fractions\n",
        "print(a+b)"
      ]
    },
    {
      "cell_type": "code",
      "execution_count": null,
      "metadata": {
        "id": "Vmh7LWeHf0Wf",
        "outputId": "a5df07d3-9295-4be1-dbc1-3e49571dfb41"
      },
      "outputs": [
        {
          "name": "stdout",
          "output_type": "stream",
          "text": [
            "pi**2\n",
            "3.1415926535897932385\n",
            "5.85987448204883847382293085463216538195441649307506539594191222003189303663975659319941700386728350\n"
          ]
        }
      ],
      "source": [
        "#Example 1.2:\n",
        "\n",
        "#Evaulate pi squared\n",
        "val1 = sym.pi**2\n",
        "print(val1)\n",
        "\n",
        "#Find the numerical value of pi accurate to 20 digits\n",
        "val2 = sym.pi.evalf(20)\n",
        "print(val2)\n",
        "\n",
        "#Evaulate pi+1 to 99 digits of accuracy\n",
        "val3 = (sym.pi + sym.exp(1)).evalf(99)\n",
        "print(val3)"
      ]
    },
    {
      "cell_type": "code",
      "execution_count": null,
      "metadata": {
        "id": "TTcrtD43gPsv",
        "outputId": "932fd20a-e511-416e-f4cc-68f49c263210"
      },
      "outputs": [
        {
          "name": "stdout",
          "output_type": "stream",
          "text": [
            "True\n",
            "oo\n"
          ]
        }
      ],
      "source": [
        "#Example 1.3\n",
        "\n",
        "#Check if infinity is bigger than 99999\n",
        "boolean = sym.oo > 99999\n",
        "print(boolean)\n",
        "\n",
        "#Evaulate infinity +1\n",
        "val = sym.oo + 1\n",
        "print(val)"
      ]
    },
    {
      "cell_type": "markdown",
      "metadata": {
        "id": "wy5D0P2bSvIF"
      },
      "source": [
        "**Exercise 1**\n",
        "\n",
        "Using Sympy tools,\n",
        "\n",
        "a.) Calculate $\\sqrt{2}$ with 100 decimals.\n",
        "\n",
        "b.) Calculate 1/2 + 1/3 in rational arithmetic."
      ]
    },
    {
      "cell_type": "code",
      "execution_count": null,
      "metadata": {
        "id": "csPOj1D6gbRJ",
        "outputId": "bb2ccc45-eef6-485a-891d-07125a1f9b60"
      },
      "outputs": [
        {
          "name": "stdout",
          "output_type": "stream",
          "text": [
            "1.414213562373095048801688724209698078569671875376948073176679737990732478462107038850387534327641573\n",
            "5/6\n"
          ]
        }
      ],
      "source": [
        "#TODO: Calculate sqrt(2) with 100 decimals\n",
        "result_a = sym.sqrt(2).evalf(100)\n",
        "print(result_a)\n",
        "\n",
        "#TODO: Calculate 1/2 + 1/3\n",
        "result_b = sym.Rational(1, 2) + sym.Rational(1, 3)\n",
        "print(result_b)"
      ]
    },
    {
      "cell_type": "markdown",
      "metadata": {
        "id": "yD-2OB-8TAeF"
      },
      "source": [
        "## **2: Symbolic Operations**\n",
        "\n",
        "One of the core strengths of SymPy lies in its ability to handle and manipulate symbolic expressions. Instead of working with numerical values directly, we can define symbols and use them to create algebraic or trigonometric expressions. For instance, raising the sum of $x$ and $y$ to a power, as in\n",
        "$(x + y)^5$ doesn't immediately compute a number, but represents the expression in its symbolic form. SymPy offers functions such as expand to distribute and expand these expressions, making it easier to view or further manipulate their expanded forms.\n",
        "\n",
        "SymPy can also expand trigonometric expressions, like\n",
        "$\\cos(x+y)$, using trigonometric identities. Furthermore, the simplify function allows users to reduce expressions to their simplest form. This flexibility in representation and transformation is invaluable for visualization and advanced mathematical computation.\n",
        "\n",
        "Run the given examples below and complete the corresponding exercise."
      ]
    },
    {
      "cell_type": "code",
      "execution_count": null,
      "metadata": {
        "id": "X04rOkJATJF3",
        "outputId": "3322e48f-8f8b-4b42-8dce-281b257974bf"
      },
      "outputs": [
        {
          "name": "stdout",
          "output_type": "stream",
          "text": [
            "(x + y)**5\n",
            "x**3 + 3*x**2*y + 3*x*y**2 + y**3\n",
            "-sin(x)*sin(y) + cos(x)*cos(y)\n",
            "y + 1\n"
          ]
        }
      ],
      "source": [
        "#Example 2.1\n",
        "\n",
        "#Create symbols for the given variables\n",
        "x = sym.Symbol('x')\n",
        "y = sym.Symbol('y')\n",
        "\n",
        "#See what python produces without the command \"expand\"\n",
        "val1 =(x+y)**5\n",
        "print(val1)\n",
        "\n",
        "#See what python produces with the command \"expand\"\n",
        "val2 = sym.expand((x + y) ** 3)\n",
        "print(val2)\n",
        "\n",
        "#See out python expands trig identities\n",
        "val3 = sym.expand(sym.cos(x + y), trig=True)\n",
        "print(val3)\n",
        "\n",
        "#Simplify the expression (x +xy)/x\n",
        "val4 = sym.simplify((x + x * y) / x)\n",
        "print(val4)"
      ]
    },
    {
      "cell_type": "markdown",
      "metadata": {
        "id": "vQDQSXvmUNw8"
      },
      "source": [
        "**Exercise 2**\n",
        "\n",
        "a.) Calculate the expanded form of $(x+y)^6$.\n",
        "\n",
        "b.) Simplify the trigonometric expression $\\sin(x) / \\cos(x)$"
      ]
    },
    {
      "cell_type": "code",
      "execution_count": null,
      "metadata": {
        "id": "XnQIYzQvTOMH",
        "outputId": "2fd95fd2-5cb8-4537-847c-5d4216018d53"
      },
      "outputs": [
        {
          "name": "stdout",
          "output_type": "stream",
          "text": [
            "x**6 + 6*x**5*y + 15*x**4*y**2 + 20*x**3*y**3 + 15*x**2*y**4 + 6*x*y**5 + y**6\n",
            "tan(x)\n"
          ]
        }
      ],
      "source": [
        "x, y = sym.symbols('x y')\n",
        "\n",
        "#TODO: Calculate expanded form of (x+y)^6\n",
        "expanded_a = sym.expand((x + y) ** 6)\n",
        "print(expanded_a)\n",
        "\n",
        "#TODO: Calculate trig expression of sinx/cosx\n",
        "simplified_b = sym.simplify(sym.sin(x) / sym.cos(x))\n",
        "print(simplified_b)"
      ]
    },
    {
      "cell_type": "markdown",
      "metadata": {
        "id": "4tlhTi4KyEgn"
      },
      "source": [
        "## **Section 3: Calculus**\n",
        "\n",
        "Calculus, the branch of mathematics concerned with continuous change, is fundamental in a myriad of scientific and engineering domains. SymPy, with its robust calculus module, facilitates symbolic computation in these areas.\n",
        "\n",
        "*   **Limits**: Studying how a function behaves as its variable approaches a certain value is foundational in calculus. SymPy's limit function handles this, making it straightforward to study the behavior of functions at points of interest, including points of discontinuity.\n",
        "\n",
        "*  **Derivatives**: Derivatives capture the rate of change of functions and are a cornerstone of calculus. Using SymPy's diff function, one can obtain the derivative of any symbolic expression, whether it's a simple polynomial or a complex multi-variable function.\n",
        "\n",
        "*  **Taylor Series**: Taylor series are used to approximate more complex functions as an infinite sum of polynomial terms. With SymPy's series function, users can easily obtain a Taylor series expansion of a function about a point up to a desired order.\n",
        "\n",
        "*   **Integration**: Whether it's definite or indefinite integrals, SymPy offers the integrate function. This allows users to symbolically solve integrals without resorting to numerical methods. It's as simple as providing the function to be integrated and, optionally, the integration bounds.\n",
        "\n",
        "In essence, SymPy's calculus capabilities offer a comprehensive suite of tools for anyone looking to perform symbolic mathematical computations related to calculus. Not only does this aid in solving complex problems, but it also assists in visualizing and understanding the underlying mathematical concepts.\n",
        "\n",
        "Run the given examples below and complete the corresponding exercise."
      ]
    },
    {
      "cell_type": "code",
      "execution_count": null,
      "metadata": {
        "id": "i19HrhUFyY0x",
        "outputId": "44dbe38b-d795-4c7e-bde0-312039bd56b1"
      },
      "outputs": [
        {
          "name": "stdout",
          "output_type": "stream",
          "text": [
            "oo\n",
            "0\n",
            "1\n"
          ]
        }
      ],
      "source": [
        "#Example 3.1: Limits\n",
        "\n",
        "#Evaulate limit of x/x as x goes to infinity\n",
        "lim1 = sym.limit(x, x, sym.oo)\n",
        "print(lim1)\n",
        "\n",
        "#Evaulate limit of 1/x as x goes to infinity\n",
        "lim2 = sym.limit(1 / x, x, sym.oo)\n",
        "print(lim2)\n",
        "\n",
        "#Evaulate limit of x*x as x goes to 0\n",
        "lim3 = sym.limit(x ** x, x, 0)\n",
        "print(lim3)\n"
      ]
    },
    {
      "cell_type": "code",
      "execution_count": null,
      "metadata": {
        "id": "3Eo7lp_aybaX",
        "outputId": "b770c9d9-b2b4-49a6-946c-fdc6931468c5"
      },
      "outputs": [
        {
          "name": "stdout",
          "output_type": "stream",
          "text": [
            "cos(x)\n",
            "2*cos(2*x)\n",
            "tan(x)**2 + 1\n",
            "2*cos(2*x)\n",
            "-4*sin(2*x)\n",
            "-8*cos(2*x)\n"
          ]
        }
      ],
      "source": [
        "#Example 3.2: Differentation\n",
        "\n",
        "#Evaulate the derivative of sin(x) for generic x\n",
        "dif1 = sym.diff(sym.sin(x), x)\n",
        "print(dif1)\n",
        "\n",
        "#Evaulate the derivative of 2x for generic x\n",
        "dif2 = sym.diff(sym.sin(2 * x), x)\n",
        "print(dif2)\n",
        "\n",
        "#Evaulate the derivative of tan(x) for generic x\n",
        "dif3 = sym.diff(sym.tan(x), x)\n",
        "print(dif3)\n",
        "\n",
        "#Evaulate the first derivative of sin(2x) for generic x\n",
        "dif4 = sym.diff(sym.sin(2 * x), x, 1)\n",
        "print(dif4)\n",
        "\n",
        "#Evaulate the 2nd derivative of sin(2x) for generic x\n",
        "dif5 = sym.diff(sym.sin(2 * x), x, 2)\n",
        "print(dif5)\n",
        "\n",
        "#Evualate the 3rd derivative of sin(2x) for generic x\n",
        "dif6 = sym.diff(sym.sin(2 * x), x, 3)\n",
        "print(dif6)\n"
      ]
    },
    {
      "cell_type": "code",
      "execution_count": null,
      "metadata": {
        "id": "iLUqOcfEzxhT",
        "outputId": "9d771d7f-893c-4403-897d-639e4ec7ef4c"
      },
      "outputs": [
        {
          "name": "stdout",
          "output_type": "stream",
          "text": [
            "1 - x**2/2 + x**4/24 + O(x**6)\n",
            "1 + x**2/2 + 5*x**4/24 + O(x**6)\n"
          ]
        }
      ],
      "source": [
        "#Example 3.3: Series\n",
        "\n",
        "#Find the series expansion of cos(x)\n",
        "ser1 = sym.series(sym.cos(x), x)\n",
        "print(ser1)\n",
        "\n",
        "#Find the series expansion of 1/cos(x)\n",
        "ser2 = sym.series(1/sym.cos(x), x)\n",
        "print(ser2)"
      ]
    },
    {
      "cell_type": "code",
      "execution_count": null,
      "metadata": {
        "id": "NSvAt_Qsz2t9",
        "outputId": "db1fa108-8d7a-4217-fc4d-034fc3f38b81"
      },
      "outputs": [
        {
          "name": "stdout",
          "output_type": "stream",
          "text": [
            "x**6\n",
            "-cos(x)\n",
            "x*log(x) - x\n",
            "x**2 + cosh(x)\n"
          ]
        }
      ],
      "source": [
        "#Example 3.4: Integration\n",
        "\n",
        "#Find the integral of 6x^5\n",
        "int1 = sym.integrate(6 * x ** 5, x)\n",
        "print(int1)\n",
        "\n",
        "#Find the integral of sin(x)\n",
        "int2 = sym.integrate(sym.sin(x), x)\n",
        "print(int2)\n",
        "\n",
        "#Find the integral of log(x)\n",
        "int3 = sym.integrate(sym.log(x), x)\n",
        "print(int3)\n",
        "\n",
        "#Find the integral of 2x+sinh(x)\n",
        "int4 = sym.integrate(2 * x + sym.sinh(x), x)\n",
        "print(int4)"
      ]
    },
    {
      "cell_type": "markdown",
      "metadata": {
        "id": "t8JtdEzSiYU4"
      },
      "source": [
        "**Exercise 3**\n",
        "\n",
        "a.) Calculate $\\lim_{x\\rightarrow 0} \\sin(x)/x$\n",
        "\n",
        "b.) Calculate the derivative of $log(x)$ for x.\n",
        "\n",
        "c.) Find the series expansion of $f(x) = e^x$ around $x=0$\n",
        "\n",
        "d.) Calculate the integral of $f(x) = \\frac{2}{3} x^3 + \\sin(x)$"
      ]
    },
    {
      "cell_type": "code",
      "execution_count": null,
      "metadata": {
        "id": "OyckH6phFP91",
        "outputId": "235e8aa8-e1b8-4c72-b600-6e81f432744a"
      },
      "outputs": [
        {
          "name": "stdout",
          "output_type": "stream",
          "text": [
            "1\n",
            "1/x\n",
            "1 + x + x**2/2 + x**3/6 + x**4/24 + x**5/120 + O(x**6)\n",
            "0.166666666666667*x**4 - cos(x)\n"
          ]
        }
      ],
      "source": [
        "x = sym.Symbol('x')\n",
        "\n",
        "#TODO: Calculate lim of sin(x)/x as x goes to 0\n",
        "limit_a = sym.limit(sym.sin(x) / x, x, 0)\n",
        "print(limit_a)\n",
        "\n",
        "#TODO: Calculate the derivative of log(x) for generic x\n",
        "derivative_b = sym.diff(sym.log(x), x)\n",
        "print(derivative_b)\n",
        "\n",
        "#TODO: Find the series expansion for e^x\n",
        "series_c = sym.series(sym.exp(x), x)\n",
        "print(series_c)\n",
        "\n",
        "#TODO: Calculate the integral of 2/3 x^3 + sin(x)\n",
        "integral_d = sym.integrate(2/3 * x**3 + sym.sin(x), x)\n",
        "print(integral_d)\n"
      ]
    },
    {
      "cell_type": "markdown",
      "metadata": {
        "id": "Dn-nLoPx0WGF"
      },
      "source": [
        "## **Section 4: Algebraic Equation solving**\n",
        "\n",
        "In the realm of algebra, equations are central—ranging from simple linear equations to more complex polynomial and systems of equations. Understanding the methods to solve these equations can unveil the mysteries behind unknown variables and intricate relationships. With the SymPy library, Python transforms into a powerful algebraic equation solver, enabling users to tackle a vast array of algebraic challenges seamlessly.\n",
        "\n",
        "*  **Polynomial Equations**: SymPy's solveset function is adept at solving equations of varying degrees. Consider the equation $x^4 -1 = 0$; with just a line of code, solveset returns all the roots of this quartic equation.\n",
        "\n",
        "*  **Systems of Equations**: When faced with multiple inter-related equations, SymPy's solve function emerges as a beacon. For instance, given a system of linear equations involving variables x and y, solve can efficiently deduce the values of these variables that satisfy all equations simultaneously.\n",
        "\n",
        "*  **Factoring Polynomials**: Beyond just solving, sometimes, the simplification of a polynomial through factoring can provide profound insights. The function sym.factor does exactly this. Given the polynomial $f = x^4 -x^3 +1$, SymPy not only represents it in its factored form but can also factorize it under specific modulus conditions, as illustrated with modulus=5.\n",
        "\n",
        "Armed with these functionalities, SymPy facilitates an intuitive and efficient exploration of the algebraic landscape, making the task of equation solving and polynomial manipulation both enlightening and accessible.\n",
        "\n",
        "Run the given examples below and complete the corresponding exercise."
      ]
    },
    {
      "cell_type": "code",
      "execution_count": null,
      "metadata": {
        "id": "LwCrb5VB0hy9",
        "outputId": "c5a5ba37-1891-4d63-b217-f0444b96dd1d"
      },
      "outputs": [
        {
          "name": "stdout",
          "output_type": "stream",
          "text": [
            "Solution is:\n"
          ]
        },
        {
          "data": {
            "text/plain": [
              "(-3, 1)"
            ]
          },
          "execution_count": 12,
          "metadata": {},
          "output_type": "execute_result"
        }
      ],
      "source": [
        "#Example 4.1: Solving Polynomial Equations\n",
        "\n",
        "#Solve for x in the given equation\n",
        "sym.solveset(x ** 4 - 1, x)\n",
        "\n",
        "#Solve the given system of equations for x and y\n",
        "solution = sym.solve((x + 5 * y - 2, -3 * x + 6 * y - 15), (x, y))\n",
        "\n",
        "#Display both solutions\n",
        "print(\"Solution is:\")\n",
        "solution[x], solution[y]"
      ]
    },
    {
      "cell_type": "code",
      "execution_count": null,
      "metadata": {
        "id": "Wm6wanqu0qq_",
        "outputId": "92769f0f-fe76-4f8f-a765-2a69ea8b0e89"
      },
      "outputs": [
        {
          "name": "stdout",
          "output_type": "stream",
          "text": [
            "(x**2 - x - 1)*(x**2 + x - 1)\n",
            "(x - 2)**2*(x + 2)**2\n"
          ]
        }
      ],
      "source": [
        "#Example 4.2\n",
        "\n",
        "#Define a function f\n",
        "f = x ** 4 - 3 * x ** 2 + 1\n",
        "\n",
        "#Factor f in normal algebra\n",
        "f1 = sym.factor(f)\n",
        "print(f1)\n",
        "\n",
        "#Factor f in mod 5 algebra\n",
        "f2 = sym.factor(f, modulus=5)\n",
        "print(f2)"
      ]
    },
    {
      "cell_type": "markdown",
      "metadata": {
        "id": "t6SiVg_30y5u"
      },
      "source": [
        "**Exercise 4**\n",
        "\n",
        "Solve the system of equations\n",
        "\n",
        "$x + y = 2$\n",
        "\n",
        "$2\\cdot x + y = 0$\n"
      ]
    },
    {
      "cell_type": "code",
      "execution_count": null,
      "metadata": {
        "id": "sZTyBHkzJ59l",
        "outputId": "8eede150-ea3c-4c50-ed0d-2f5fa1465351"
      },
      "outputs": [
        {
          "name": "stdout",
          "output_type": "stream",
          "text": [
            "Solution is:\n"
          ]
        },
        {
          "data": {
            "text/plain": [
              "(-2, 4)"
            ]
          },
          "execution_count": 14,
          "metadata": {},
          "output_type": "execute_result"
        }
      ],
      "source": [
        "x, y = sym.symbols('x y')\n",
        "\n",
        "#TODO: Solve the above system\n",
        "\n",
        "solution_4 = sym.solve((x + y - 2, 2 * x + y), (x, y))\n",
        "print(\"Solution is:\")\n",
        "solution_4[x], solution_4[y]"
      ]
    },
    {
      "cell_type": "markdown",
      "metadata": {
        "id": "rhGTK43ESibi"
      },
      "source": [
        "#  **5. Linear Algebra**\n",
        "\n",
        "Linear algebra, a branch of mathematics centered around vectors, matrices, and linear transformations, finds applications across a plethora of fields from computer graphics to quantum mechanics. SymPy, with its dedicated module for matrix operations, provides an environment where these concepts can be explored symbolically, enhancing understanding and fostering creativity.\n",
        "\n",
        "For instance, consider the creation of the identity matrix. This matrix serves as the multiplicative identity in the realm of matrix multiplication. But SymPy's capabilities don't stop at just creating static matrices. By introducing symbols like x and y, users can form matrices like A with symbolic elements, allowing for a dynamic representation of matrix structures. Such symbolic matrices can be manipulated just as their numeric counterparts; they can be squared, multiplied, inverted, and more.\n",
        "\n",
        "In the example given, squaring the matrix A would yield a new matrix that's the product of A with itself. By embracing SymPy's matrix functionalities, users can delve deep into the world of linear algebra, armed with the power of symbolic computation.\n",
        "\n",
        "Run the given examples below and complete the corresponding exercise."
      ]
    },
    {
      "cell_type": "code",
      "execution_count": null,
      "metadata": {
        "id": "fWlACpmk0_2_",
        "outputId": "95f0b205-36fe-41a0-ddda-fd9f0baedc18"
      },
      "outputs": [
        {
          "name": "stdout",
          "output_type": "stream",
          "text": [
            "⎡1  0⎤\n",
            "⎢    ⎥\n",
            "⎣0  1⎦\n",
            "⎡1  x⎤\n",
            "⎢    ⎥\n",
            "⎣y  1⎦\n",
            "⎡x⋅y + 1    2⋅x  ⎤\n",
            "⎢                ⎥\n",
            "⎣  2⋅y    x⋅y + 1⎦\n"
          ]
        }
      ],
      "source": [
        "# Import necessary functions\n",
        "# Note: function 'pretty' makes the visualization of your Matrix\n",
        "from sympy import Matrix, symbols, pretty\n",
        "\n",
        "#Create identity matrix\n",
        "id = sym.Matrix([[1, 0], [0, 1]])\n",
        "print(pretty(id))\n",
        "\n",
        "#Create symbols for x and y\n",
        "x, y = sym.symbols('x, y')\n",
        "\n",
        "#Create a matrix A with the give components\n",
        "A = sym.Matrix([[1, x], [y, 1]])\n",
        "print(pretty(A))\n",
        "\n",
        "#Find A squared\n",
        "A2 = A**2\n",
        "print(pretty(A2))"
      ]
    },
    {
      "cell_type": "markdown",
      "metadata": {
        "id": "AMJeBPZeLjf4"
      },
      "source": [
        "**Exercise 5**\n",
        "\n",
        "a.) Create a 3x3 matrix populated with variables $x,y,z$.\n",
        "\n",
        "b.) Compute the square of that matrix"
      ]
    },
    {
      "cell_type": "code",
      "execution_count": null,
      "metadata": {
        "id": "QUjNfaWaL42f",
        "outputId": "c9d291aa-d1bb-4279-eb7a-7344024d32fb"
      },
      "outputs": [
        {
          "name": "stdout",
          "output_type": "stream",
          "text": [
            "Matrix([[x, y, z], [y, z, x], [z, x, y]])\n",
            "Matrix([[x**2 + y**2 + z**2, x*y + x*z + y*z, x*y + x*z + y*z], [x*y + x*z + y*z, x**2 + y**2 + z**2, x*y + x*z + y*z], [x*y + x*z + y*z, x*y + x*z + y*z, x**2 + y**2 + z**2]])\n"
          ]
        }
      ],
      "source": [
        "z = sym.symbols('z')\n",
        "\n",
        "#TODO: Create a 3x3 matrix\n",
        "m33_a = sym.Matrix([[x, y, z], [y, z, x], [z, x, y]])\n",
        "print(m33_a)\n",
        "\n",
        "#TODO: Compute the square of the matrix\n",
        "squared_b = m33_a**2\n",
        "print(squared_b)"
      ]
    },
    {
      "cell_type": "markdown",
      "metadata": {
        "id": "e5nM8J5z1IJc"
      },
      "source": [
        "## **6. Differential Equations**\n",
        "\n",
        "Differential equations, equations involving derivatives, serve as the backbone for modeling dynamic systems in fields ranging from physics to biology to economics. These equations describe how a particular quantity changes with respect to another, often representing phenomena like motion, heat transfer, or population growth. Tackling differential equations symbolically often provides deeper insight into their structure and solutions.\n",
        "\n",
        "SymPy, with its adeptness in symbolic computation, offers an invaluable platform for such tasks. Starting with the definition of symbolic functions, such as $f(x)$, we can represent and manipulate their derivatives. Combining these derivatives with the original function, or other functions, can model various differential equations. But SymPy's true prowess lies in its ability to solve these equations symbolically. With the dsolve function, users can obtain explicit and implicit solutions to ordinary differential equations, paving the way for understanding the underlying dynamics of the system in question.\n",
        "\n",
        "Run the given examples below and complete the corresponding exercise."
      ]
    },
    {
      "cell_type": "code",
      "execution_count": null,
      "metadata": {
        "id": "6q9rzpGE1Sb9",
        "outputId": "ae71e469-fa03-4d39-d41c-bce2355bce2b"
      },
      "outputs": [
        {
          "name": "stdout",
          "output_type": "stream",
          "text": [
            "f(x) = C₁⋅sin(x) + C₂⋅cos(x)\n"
          ]
        }
      ],
      "source": [
        "from sympy import pretty\n",
        "\n",
        "#Define symbols for functions f and g\n",
        "f, g = sym.symbols('f, g', cls=sym.Function)\n",
        "\n",
        "#Define the differential equation f''(x) + f(x) = 0\n",
        "eq = f(x).diff(x, x) + f(x)\n",
        "\n",
        "#Solve where your differential equation = 0 for f(x)\n",
        "solution = sym.dsolve(eq, f(x))\n",
        "print(pretty(solution))"
      ]
    },
    {
      "cell_type": "markdown",
      "metadata": {
        "id": "2rildjBe1wKs"
      },
      "source": [
        "**Exercise 6**\n",
        "\n",
        "Solve the Bernoulli differential equation $x \\frac{d f(x)}{x} + f(x) - f(x)^2=0$"
      ]
    },
    {
      "cell_type": "code",
      "execution_count": null,
      "metadata": {
        "id": "xwp53CuPMS8q",
        "outputId": "6994aec3-d397-4a0d-f32c-75c85355e331"
      },
      "outputs": [
        {
          "name": "stdout",
          "output_type": "stream",
          "text": [
            "         -1    \n",
            "f(x) = ────────\n",
            "       C₁⋅x - 1\n"
          ]
        }
      ],
      "source": [
        "from sympy import Function\n",
        "\n",
        "x = symbols('x')\n",
        "f = Function('f')(x)\n",
        "\n",
        "#TODO: Solve the differential equation\n",
        "eq_6 = x * sym.diff(f, x) + f - f**2\n",
        "sol_6 = sym.dsolve(eq_6, f)\n",
        "print(pretty(sol_6))"
      ]
    },
    {
      "cell_type": "code",
      "execution_count": null,
      "metadata": {
        "id": "d-4bFs6iXHpB"
      },
      "outputs": [],
      "source": []
    }
  ],
  "metadata": {
    "colab": {
      "provenance": [],
      "include_colab_link": true
    },
    "kernelspec": {
      "display_name": "Python 3 (ipykernel)",
      "language": "python",
      "name": "python3"
    },
    "language_info": {
      "codemirror_mode": {
        "name": "ipython",
        "version": 3
      },
      "file_extension": ".py",
      "mimetype": "text/x-python",
      "name": "python",
      "nbconvert_exporter": "python",
      "pygments_lexer": "ipython3",
      "version": "3.10.9"
    }
  },
  "nbformat": 4,
  "nbformat_minor": 0
}